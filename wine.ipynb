{
  "nbformat": 4,
  "nbformat_minor": 0,
  "metadata": {
    "colab": {
      "name": "wine.ipynb",
      "provenance": [],
      "collapsed_sections": [],
      "authorship_tag": "ABX9TyPOwzgbdWBuxaVMT6C5aXcQ",
      "include_colab_link": true
    },
    "kernelspec": {
      "name": "python3",
      "display_name": "Python 3"
    }
  },
  "cells": [
    {
      "cell_type": "markdown",
      "metadata": {
        "id": "view-in-github",
        "colab_type": "text"
      },
      "source": [
        "<a href=\"https://colab.research.google.com/github/elileal/Report_Machine_Learning/blob/master/wine.ipynb\" target=\"_parent\"><img src=\"https://colab.research.google.com/assets/colab-badge.svg\" alt=\"Open In Colab\"/></a>"
      ]
    },
    {
      "cell_type": "code",
      "metadata": {
        "id": "z3cEFCsmIn9S",
        "colab_type": "code",
        "colab": {}
      },
      "source": [
        "from sklearn import tree\n",
        "from sklearn.model_selection import train_test_split\n",
        "from sklearn import metrics\n",
        "import pandas as pd\n",
        "from sklearn.neighbors import KNeighborsClassifier\n",
        "from sklearn.neural_network import MLPClassifier\n",
        "\n",
        "url = \"https://raw.githubusercontent.com/elileal/Report_Machine_Learning/master/wine/wine.data\"\n",
        "\n",
        "# IRIS\n",
        "col_names = [\n",
        "  'label', \n",
        "  'Alcohol',\n",
        "  'Malic_acid',\n",
        "  'Ash',\n",
        "  'Alcalinity_of_ash',  \n",
        "  'Magnesium',\n",
        "  'Total_phenols',\n",
        "  'Flavanoids',\n",
        "  'Nonflavanoid_phenols',\n",
        "  'Proanthocyanins',\n",
        "  'Color_intensity',\n",
        "  'Hue',\n",
        "  'OD280_OD315_of_diluted_wines',\n",
        "  'Proline'\n",
        "]\n",
        "\n",
        "feature_cols = [ 'Alcohol',\n",
        "  'Malic_acid',\n",
        "  'Ash',\n",
        "  'Alcalinity_of_ash',  \n",
        "  'Magnesium',\n",
        "  'Total_phenols',\n",
        "  'Flavanoids',\n",
        "  'Nonflavanoid_phenols',\n",
        "  'Proanthocyanins',\n",
        "  'Color_intensity',\n",
        "  'Hue',\n",
        "  'OD280_OD315_of_diluted_wines',\n",
        "  'Proline'\n",
        "]\n",
        "\n",
        "# Carregar base de dados\n",
        "dataset = pd.read_csv(url, header=None, names=col_names)\n",
        "\n",
        "X = dataset[feature_cols] # Atributos (Features)\n",
        "y = dataset.label # Saída\n"
      ],
      "execution_count": 0,
      "outputs": []
    },
    {
      "cell_type": "code",
      "metadata": {
        "id": "c1kQjtKdOewq",
        "colab_type": "code",
        "colab": {}
      },
      "source": [
        "X_train, X_test, y_train, y_test = train_test_split(X, y, test_size=0.2, random_state=None, stratify=y) # 80% treino e 20% teste"
      ],
      "execution_count": 0,
      "outputs": []
    },
    {
      "cell_type": "code",
      "metadata": {
        "id": "TCPFXpOmOwIC",
        "colab_type": "code",
        "colab": {}
      },
      "source": [
        "# Árvore de Decisão\n",
        "model = tree.DecisionTreeClassifier(criterion=\"entropy\")\n",
        "model = model.fit(X_train, y_train)\n",
        "\n",
        "## Predição e Resultados\n",
        "result = model.predict(X_test)\n",
        "acc = metrics.accuracy_score(result, y_test)\n",
        "show_tree = round(acc * 100)"
      ],
      "execution_count": 0,
      "outputs": []
    },
    {
      "cell_type": "code",
      "metadata": {
        "colab_type": "code",
        "id": "PNOHIyxbQnYN",
        "colab": {}
      },
      "source": [
        "# KNN\n",
        "def train_pred_knn(n, X_train, y_train):\n",
        "  model = KNeighborsClassifier(n_neighbors=n, metric='euclidean', algorithm='brute')\n",
        "  model = model.fit(X_train, y_train)\n",
        "  result = model.predict(X_test)\n",
        "  acc = metrics.accuracy_score(result, y_test)\n",
        "  return round(acc * 100)\n",
        "\n",
        "knn5 = train_pred_knn(5, X_train, y_train)\n",
        "knn10 = train_pred_knn(10, X_train, y_train)"
      ],
      "execution_count": 0,
      "outputs": []
    },
    {
      "cell_type": "code",
      "metadata": {
        "id": "4JLslkE-sjKx",
        "colab_type": "code",
        "colab": {}
      },
      "source": [
        "# MLP\n",
        "\n",
        "def mlp_arc_fit(l1, l2, X_train, y_train):\n",
        "  model = MLPClassifier(hidden_layer_sizes=(l1, l2), activation='tanh',max_iter=2000)\n",
        "  model = model.fit(X_train, y_train)\n",
        "  result = model.predict(X_test)\n",
        "  acc = metrics.accuracy_score(result, y_test)\n",
        "  return round(acc * 100)\n",
        "\n",
        "# Arquitetura (4,2)\n",
        "mlp42 = mlp_arc_fit(4, 2, X_train, y_train)\n",
        "\n",
        "# Arquitetura (2, 1)\n",
        "mlp21 = mlp_arc_fit(4, 2, X_train, y_train)\n"
      ],
      "execution_count": 0,
      "outputs": []
    },
    {
      "cell_type": "code",
      "metadata": {
        "id": "TS4M24pARJ_1",
        "colab_type": "code",
        "outputId": "e4dc3977-3169-4c96-88d3-0c72b51ef138",
        "colab": {
          "base_uri": "https://localhost:8080/",
          "height": 80
        }
      },
      "source": [
        "# Resultados\n",
        "data = {'knn5': [knn5], 'knn10': [knn10], 'tree': [show_tree], 'mlp (4, 2)': [mlp42], 'mlp (2, 1)': [mlp21]}\n",
        "\n",
        "df = pd.DataFrame(data)\n",
        "df"
      ],
      "execution_count": 75,
      "outputs": [
        {
          "output_type": "execute_result",
          "data": {
            "text/html": [
              "<div>\n",
              "<style scoped>\n",
              "    .dataframe tbody tr th:only-of-type {\n",
              "        vertical-align: middle;\n",
              "    }\n",
              "\n",
              "    .dataframe tbody tr th {\n",
              "        vertical-align: top;\n",
              "    }\n",
              "\n",
              "    .dataframe thead th {\n",
              "        text-align: right;\n",
              "    }\n",
              "</style>\n",
              "<table border=\"1\" class=\"dataframe\">\n",
              "  <thead>\n",
              "    <tr style=\"text-align: right;\">\n",
              "      <th></th>\n",
              "      <th>knn5</th>\n",
              "      <th>knn10</th>\n",
              "      <th>tree</th>\n",
              "      <th>mlp (4, 2)</th>\n",
              "      <th>mlp (2, 1)</th>\n",
              "    </tr>\n",
              "  </thead>\n",
              "  <tbody>\n",
              "    <tr>\n",
              "      <th>0</th>\n",
              "      <td>75.0</td>\n",
              "      <td>78.0</td>\n",
              "      <td>97.0</td>\n",
              "      <td>100.0</td>\n",
              "      <td>72.0</td>\n",
              "    </tr>\n",
              "  </tbody>\n",
              "</table>\n",
              "</div>"
            ],
            "text/plain": [
              "   knn5  knn10  tree  mlp (4, 2)  mlp (2, 1)\n",
              "0  75.0   78.0  97.0       100.0        72.0"
            ]
          },
          "metadata": {
            "tags": []
          },
          "execution_count": 75
        }
      ]
    }
  ]
}