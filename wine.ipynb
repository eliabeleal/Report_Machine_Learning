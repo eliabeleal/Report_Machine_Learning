{
  "nbformat": 4,
  "nbformat_minor": 0,
  "metadata": {
    "colab": {
      "name": "wine.ipynb",
      "provenance": [],
      "authorship_tag": "ABX9TyN1Af9ScgPH7F0kYppl4+39",
      "include_colab_link": true
    },
    "kernelspec": {
      "name": "python3",
      "display_name": "Python 3"
    }
  },
  "cells": [
    {
      "cell_type": "markdown",
      "metadata": {
        "id": "view-in-github",
        "colab_type": "text"
      },
      "source": [
        "<a href=\"https://colab.research.google.com/github/elileal/Report_Machine_Learning/blob/master/wine.ipynb\" target=\"_parent\"><img src=\"https://colab.research.google.com/assets/colab-badge.svg\" alt=\"Open In Colab\"/></a>"
      ]
    },
    {
      "cell_type": "code",
      "metadata": {
        "id": "z3cEFCsmIn9S",
        "colab_type": "code",
        "colab": {}
      },
      "source": [
        "from sklearn import tree\n",
        "from sklearn.model_selection import train_test_split\n",
        "from sklearn import metrics\n",
        "import pandas as pd\n",
        "from sklearn.neighbors import KNeighborsClassifier\n",
        "\n",
        "url = \"https://raw.githubusercontent.com/elileal/Report_Machine_Learning/master/wine/wine.data\"\n",
        "\n",
        "# IRIS\n",
        "col_names = [\n",
        "  'label', \n",
        "  'Alcohol',\n",
        "  'Malic_acid',\n",
        "  'Ash',\n",
        "  'Alcalinity_of_ash',  \n",
        "  'Magnesium',\n",
        "  'Total_phenols',\n",
        "  'Flavanoids',\n",
        "  'Nonflavanoid_phenols',\n",
        "  'Proanthocyanins',\n",
        "  'Color_intensity',\n",
        "  'Hue',\n",
        "  'OD280_OD315_of_diluted_wines',\n",
        "  'Proline'\n",
        "]\n",
        "\n",
        "feature_cols = [ 'Alcohol',\n",
        "  'Malic_acid',\n",
        "  'Ash',\n",
        "  'Alcalinity_of_ash',  \n",
        "  'Magnesium',\n",
        "  'Total_phenols',\n",
        "  'Flavanoids',\n",
        "  'Nonflavanoid_phenols',\n",
        "  'Proanthocyanins',\n",
        "  'Color_intensity',\n",
        "  'Hue',\n",
        "  'OD280_OD315_of_diluted_wines',\n",
        "  'Proline'\n",
        "]\n",
        "\n",
        "# Carregar base de dados\n",
        "dataset = pd.read_csv(url, header=None, names=col_names)\n",
        "\n",
        "X = dataset[feature_cols] # Atributos (Features)\n",
        "y = dataset.label # Saída\n"
      ],
      "execution_count": 0,
      "outputs": []
    },
    {
      "cell_type": "code",
      "metadata": {
        "id": "c1kQjtKdOewq",
        "colab_type": "code",
        "colab": {}
      },
      "source": [
        "X_train, X_test, y_train, y_test = train_test_split(X, y, test_size=0.2, random_state=None, stratify=y) # 80% treino e 20% teste\n",
        "# print(y_test)"
      ],
      "execution_count": 0,
      "outputs": []
    },
    {
      "cell_type": "code",
      "metadata": {
        "id": "TCPFXpOmOwIC",
        "colab_type": "code",
        "colab": {}
      },
      "source": [
        "# Treinamendo da Árvore de Decisão\n",
        "model = tree.DecisionTreeClassifier(criterion=\"entropy\")\n",
        "model = model.fit(X_train, y_train)"
      ],
      "execution_count": 0,
      "outputs": []
    },
    {
      "cell_type": "code",
      "metadata": {
        "id": "fGKabzPKO0vz",
        "colab_type": "code",
        "outputId": "21c5121c-d2ee-4a66-8656-c5abdcc32aa8",
        "colab": {
          "base_uri": "https://localhost:8080/",
          "height": 68
        }
      },
      "source": [
        "# Predição e Resultados\n",
        "\n",
        "result = model.predict(X_test)\n",
        "acc = metrics.accuracy_score(result, y_test)\n",
        "show = round(acc * 100)\n",
        "print(\"{}%\".format(show))\n",
        "\n",
        "print(list(result))\n",
        "print(list(y_test))"
      ],
      "execution_count": 0,
      "outputs": [
        {
          "output_type": "stream",
          "text": [
            "97.0%\n",
            "[3, 3, 1, 2, 1, 2, 3, 2, 2, 3, 2, 2, 1, 1, 2, 2, 2, 1, 3, 3, 1, 3, 1, 1, 2, 2, 2, 1, 1, 2, 2, 3, 3, 3, 1, 2]\n",
            "[3, 3, 1, 2, 1, 2, 3, 2, 2, 3, 2, 2, 1, 1, 2, 2, 2, 1, 3, 3, 1, 3, 1, 1, 1, 2, 2, 1, 1, 2, 2, 3, 3, 3, 1, 2]\n"
          ],
          "name": "stdout"
        }
      ]
    },
    {
      "cell_type": "code",
      "metadata": {
        "id": "a_jQdtqpO1rM",
        "colab_type": "code",
        "colab": {}
      },
      "source": [
        "tree.plot_tree(model) "
      ],
      "execution_count": 0,
      "outputs": []
    },
    {
      "cell_type": "code",
      "metadata": {
        "colab_type": "code",
        "id": "PNOHIyxbQnYN",
        "colab": {}
      },
      "source": [
        "# Treinamendo do KNN 5\n",
        "n = 5\n",
        "\n",
        "model = KNeighborsClassifier(n_neighbors=n, metric='euclidean', algorithm='brute')\n",
        "model = model.fit(X_train, y_train)"
      ],
      "execution_count": 0,
      "outputs": []
    },
    {
      "cell_type": "code",
      "metadata": {
        "id": "75ngEelcRGsf",
        "colab_type": "code",
        "outputId": "e355dfe1-324c-4da2-9d00-c316e7e65453",
        "colab": {
          "base_uri": "https://localhost:8080/",
          "height": 68
        }
      },
      "source": [
        "result = model.predict(X_test)\n",
        "acc = metrics.accuracy_score(result, y_test)\n",
        "show = round(acc * 100)\n",
        "print(\"{}%\".format(show))\n",
        "\n",
        "print(list(result))\n",
        "print(list(y_test))"
      ],
      "execution_count": 0,
      "outputs": [
        {
          "output_type": "stream",
          "text": [
            "67.0%\n",
            "[1, 3, 1, 2, 1, 2, 1, 3, 3, 3, 3, 2, 1, 1, 2, 2, 3, 1, 1, 3, 1, 2, 1, 1, 1, 2, 2, 1, 1, 2, 1, 1, 2, 2, 1, 2]\n",
            "[3, 3, 1, 2, 1, 2, 3, 2, 2, 3, 2, 2, 1, 1, 2, 2, 2, 1, 3, 3, 1, 3, 1, 1, 1, 2, 2, 1, 1, 2, 2, 3, 3, 3, 1, 2]\n"
          ],
          "name": "stdout"
        }
      ]
    },
    {
      "cell_type": "code",
      "metadata": {
        "id": "FEFUjZS6O4jo",
        "colab_type": "code",
        "colab": {}
      },
      "source": [
        "# Treinamendo do KNN 10\n",
        "n = 10\n",
        "\n",
        "model = KNeighborsClassifier(n_neighbors=n, metric='euclidean', algorithm='brute')\n",
        "model = model.fit(X_train, y_train)"
      ],
      "execution_count": 0,
      "outputs": []
    },
    {
      "cell_type": "code",
      "metadata": {
        "id": "TS4M24pARJ_1",
        "colab_type": "code",
        "outputId": "33435d0e-ebb1-40ae-d787-e18bc11c8279",
        "colab": {
          "base_uri": "https://localhost:8080/",
          "height": 68
        }
      },
      "source": [
        "result = model.predict(X_test)\n",
        "acc = metrics.accuracy_score(result, y_test)\n",
        "show = round(acc * 100)\n",
        "print(\"{}%\".format(show))\n",
        "\n",
        "print(list(result))\n",
        "print(list(y_test))"
      ],
      "execution_count": 0,
      "outputs": [
        {
          "output_type": "stream",
          "text": [
            "64.0%\n",
            "[1, 3, 1, 2, 3, 2, 1, 3, 3, 3, 3, 2, 1, 3, 2, 2, 3, 1, 1, 2, 1, 3, 1, 1, 1, 2, 2, 1, 1, 2, 1, 3, 2, 2, 1, 2]\n",
            "[3, 3, 1, 2, 1, 2, 3, 2, 2, 3, 2, 2, 1, 1, 2, 2, 2, 1, 3, 3, 1, 3, 1, 1, 1, 2, 2, 1, 1, 2, 2, 3, 3, 3, 1, 2]\n"
          ],
          "name": "stdout"
        }
      ]
    }
  ]
}