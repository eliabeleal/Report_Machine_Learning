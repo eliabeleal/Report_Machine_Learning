{
  "nbformat": 4,
  "nbformat_minor": 0,
  "metadata": {
    "colab": {
      "name": "Divorce.ipynb",
      "provenance": [],
      "collapsed_sections": [],
      "authorship_tag": "ABX9TyMHsWUd7qEeS85clrDHUKBL",
      "include_colab_link": true
    },
    "kernelspec": {
      "name": "python3",
      "display_name": "Python 3"
    }
  },
  "cells": [
    {
      "cell_type": "markdown",
      "metadata": {
        "id": "view-in-github",
        "colab_type": "text"
      },
      "source": [
        "<a href=\"https://colab.research.google.com/github/elileal/Report_Machine_Learning/blob/master/Divorce.ipynb\" target=\"_parent\"><img src=\"https://colab.research.google.com/assets/colab-badge.svg\" alt=\"Open In Colab\"/></a>"
      ]
    },
    {
      "cell_type": "code",
      "metadata": {
        "id": "z3cEFCsmIn9S",
        "colab_type": "code",
        "colab": {
          "base_uri": "https://localhost:8080/",
          "height": 255
        },
        "outputId": "0589bc11-aae2-4584-c491-2e2aa28bf658"
      },
      "source": [
        "from sklearn import tree\n",
        "from sklearn.model_selection import train_test_split\n",
        "from sklearn import metrics\n",
        "import pandas as pd\n",
        "from sklearn.neighbors import KNeighborsClassifier\n",
        "from sklearn.neural_network import MLPClassifier\n",
        "\n",
        "url = \"https://raw.githubusercontent.com/elileal/Report_Machine_Learning/master/divorce/divorce.csv\"\n",
        "\n",
        "# IRIS\n",
        "col_names = ['Atr1','Atr2','Atr3','Atr4','Atr5','Atr6','Atr7','Atr8','Atr9','Atr10','Atr11','Atr12','Atr13','Atr14','Atr15','Atr16','Atr17','Atr18','Atr19','Atr20','Atr21','Atr22','Atr23','Atr24','Atr25','Atr26','Atr27','Atr28','Atr29','Atr30','Atr31','Atr32','Atr33','Atr34','Atr35','Atr36','Atr37','Atr38','Atr39','Atr40','Atr41','Atr42','Atr43','Atr44','Atr45','Atr46','Atr47','Atr48','Atr49','Atr50','Atr51','Atr52','Atr53','Atr54','label']\n",
        "\n",
        "feature_cols = ['Atr1','Atr2','Atr3','Atr4','Atr5','Atr6','Atr7','Atr8','Atr9','Atr10','Atr11','Atr12','Atr13','Atr14','Atr15','Atr16','Atr17','Atr18','Atr19','Atr20','Atr21','Atr22','Atr23','Atr24','Atr25','Atr26','Atr27','Atr28','Atr29','Atr30','Atr31','Atr32','Atr33','Atr34','Atr35','Atr36','Atr37','Atr38','Atr39','Atr40','Atr41','Atr42','Atr43','Atr44','Atr45','Atr46','Atr47','Atr48','Atr49','Atr50','Atr51','Atr52','Atr53','Atr54']\n",
        "\n",
        "# Carregar base de dados\n",
        "dataset = pd.read_csv(url, header=None, names=col_names)\n",
        "\n",
        "X = dataset[feature_cols] # Atributos (Features)\n",
        "y = dataset.label # Saída\n"
      ],
      "execution_count": 5,
      "outputs": [
        {
          "output_type": "stream",
          "text": [
            "     Atr1  Atr2  Atr3  Atr4  Atr5  ...  Atr51  Atr52  Atr53  Atr54  label\n",
            "0       2     2     4     1     0  ...      2      3      2      1      1\n",
            "1       4     4     4     4     4  ...      4      4      2      2      1\n",
            "2       2     2     2     2     1  ...      1      2      2      2      1\n",
            "3       3     2     3     2     3  ...      3      2      2      2      1\n",
            "4       2     2     1     1     1  ...      2      2      1      0      1\n",
            "..    ...   ...   ...   ...   ...  ...    ...    ...    ...    ...    ...\n",
            "165     0     0     0     0     0  ...      4      2      2      2      0\n",
            "166     0     0     0     0     0  ...      2      3      2      2      0\n",
            "167     1     1     0     0     0  ...      1      3      0      0      0\n",
            "168     0     0     0     0     0  ...      2      4      3      1      0\n",
            "169     0     0     0     0     0  ...      3      3      3      1      0\n",
            "\n",
            "[170 rows x 55 columns]\n"
          ],
          "name": "stdout"
        }
      ]
    },
    {
      "cell_type": "code",
      "metadata": {
        "id": "c1kQjtKdOewq",
        "colab_type": "code",
        "colab": {}
      },
      "source": [
        "X_train, X_test, y_train, y_test = train_test_split(X, y, test_size=0.2, random_state=None, stratify=y) # 80% treino e 20% teste"
      ],
      "execution_count": 0,
      "outputs": []
    },
    {
      "cell_type": "code",
      "metadata": {
        "id": "TCPFXpOmOwIC",
        "colab_type": "code",
        "colab": {}
      },
      "source": [
        "# Árvore de Decisão\n",
        "model = tree.DecisionTreeClassifier(criterion=\"entropy\")\n",
        "model = model.fit(X_train, y_train)\n",
        "\n",
        "## Predição e Resultados\n",
        "result = model.predict(X_test)\n",
        "acc = metrics.accuracy_score(result, y_test)\n",
        "show_tree = round(acc * 100)"
      ],
      "execution_count": 0,
      "outputs": []
    },
    {
      "cell_type": "code",
      "metadata": {
        "colab_type": "code",
        "id": "PNOHIyxbQnYN",
        "colab": {}
      },
      "source": [
        "# KNN\n",
        "def train_pred_knn(n, X_train, y_train):\n",
        "  model = KNeighborsClassifier(n_neighbors=n, metric='euclidean', algorithm='brute')\n",
        "  model = model.fit(X_train, y_train)\n",
        "  result = model.predict(X_test)\n",
        "  acc = metrics.accuracy_score(result, y_test)\n",
        "  return round(acc * 100)\n",
        "\n",
        "knn5 = train_pred_knn(5, X_train, y_train)\n",
        "knn10 = train_pred_knn(10, X_train, y_train)"
      ],
      "execution_count": 0,
      "outputs": []
    },
    {
      "cell_type": "code",
      "metadata": {
        "id": "4JLslkE-sjKx",
        "colab_type": "code",
        "colab": {}
      },
      "source": [
        "# MLP\n",
        "\n",
        "def mlp_arc_fit(l1, l2, X_train, y_train):\n",
        "  model = MLPClassifier(hidden_layer_sizes=(l1, l2), activation='tanh',max_iter=2000)\n",
        "  model = model.fit(X_train, y_train)\n",
        "  result = model.predict(X_test)\n",
        "  acc = metrics.accuracy_score(result, y_test)\n",
        "  return round(acc * 100)\n",
        "\n",
        "# Arquitetura (4,2)\n",
        "mlp42 = mlp_arc_fit(4, 2, X_train, y_train)\n",
        "\n",
        "# Arquitetura (2, 1)\n",
        "mlp21 = mlp_arc_fit(4, 2, X_train, y_train)\n"
      ],
      "execution_count": 0,
      "outputs": []
    },
    {
      "cell_type": "code",
      "metadata": {
        "id": "TS4M24pARJ_1",
        "colab_type": "code",
        "outputId": "d91cf4cf-3698-4415-fa23-b4f8db9d6b8d",
        "colab": {
          "base_uri": "https://localhost:8080/",
          "height": 80
        }
      },
      "source": [
        "# Resultados\n",
        "data = {'knn5': [knn5], 'knn10': [knn10], 'tree': [show_tree], 'mlp (4, 2)': [mlp42], 'mlp (2, 1)': [mlp21]}\n",
        "\n",
        "df = pd.DataFrame(data)\n",
        "df"
      ],
      "execution_count": 10,
      "outputs": [
        {
          "output_type": "execute_result",
          "data": {
            "text/html": [
              "<div>\n",
              "<style scoped>\n",
              "    .dataframe tbody tr th:only-of-type {\n",
              "        vertical-align: middle;\n",
              "    }\n",
              "\n",
              "    .dataframe tbody tr th {\n",
              "        vertical-align: top;\n",
              "    }\n",
              "\n",
              "    .dataframe thead th {\n",
              "        text-align: right;\n",
              "    }\n",
              "</style>\n",
              "<table border=\"1\" class=\"dataframe\">\n",
              "  <thead>\n",
              "    <tr style=\"text-align: right;\">\n",
              "      <th></th>\n",
              "      <th>knn5</th>\n",
              "      <th>knn10</th>\n",
              "      <th>tree</th>\n",
              "      <th>mlp (4, 2)</th>\n",
              "      <th>mlp (2, 1)</th>\n",
              "    </tr>\n",
              "  </thead>\n",
              "  <tbody>\n",
              "    <tr>\n",
              "      <th>0</th>\n",
              "      <td>97.0</td>\n",
              "      <td>97.0</td>\n",
              "      <td>97.0</td>\n",
              "      <td>94.0</td>\n",
              "      <td>97.0</td>\n",
              "    </tr>\n",
              "  </tbody>\n",
              "</table>\n",
              "</div>"
            ],
            "text/plain": [
              "   knn5  knn10  tree  mlp (4, 2)  mlp (2, 1)\n",
              "0  97.0   97.0  97.0        94.0        97.0"
            ]
          },
          "metadata": {
            "tags": []
          },
          "execution_count": 10
        }
      ]
    }
  ]
}